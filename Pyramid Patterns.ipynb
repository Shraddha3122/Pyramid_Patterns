{
 "cells": [
  {
   "cell_type": "markdown",
   "id": "a9b99939",
   "metadata": {},
   "source": [
    "# Program to print half pyramid using *"
   ]
  },
  {
   "cell_type": "code",
   "execution_count": 1,
   "id": "1481c565",
   "metadata": {},
   "outputs": [
    {
     "name": "stdout",
     "output_type": "stream",
     "text": [
      "Enter number of rows: 5\n",
      "* \n",
      "\n",
      "* * \n",
      "\n",
      "* * * \n",
      "\n",
      "* * * * \n",
      "\n",
      "* * * * * \n",
      "\n"
     ]
    }
   ],
   "source": [
    "rows = int(input(\"Enter number of rows: \"))\n",
    "\n",
    "for i in range(rows):\n",
    "    for j in range(i+1):\n",
    "        print(\"* \", end=\"\")\n",
    "    print(\"\\n\")"
   ]
  },
  {
   "cell_type": "markdown",
   "id": "1d6bb852",
   "metadata": {},
   "source": [
    "# Program to print half pyramid a using numbers"
   ]
  },
  {
   "cell_type": "code",
   "execution_count": 2,
   "id": "7c7c17ec",
   "metadata": {},
   "outputs": [
    {
     "name": "stdout",
     "output_type": "stream",
     "text": [
      "Enter number of rows: 4\n",
      "1 \n",
      "\n",
      "1 2 \n",
      "\n",
      "1 2 3 \n",
      "\n",
      "1 2 3 4 \n",
      "\n"
     ]
    }
   ],
   "source": [
    "rows = int(input(\"Enter number of rows: \"))\n",
    "\n",
    "for i in range(rows):\n",
    "    for j in range(i+1):\n",
    "        print(j+1, end=\" \")\n",
    "    print(\"\\n\")"
   ]
  },
  {
   "cell_type": "markdown",
   "id": "b6922b8f",
   "metadata": {},
   "source": [
    "# Program to print half pyramid using alphabets"
   ]
  },
  {
   "cell_type": "code",
   "execution_count": 7,
   "id": "021bec25",
   "metadata": {},
   "outputs": [
    {
     "name": "stdout",
     "output_type": "stream",
     "text": [
      "Enter number of rows: 7\n",
      "A \n",
      "\n",
      "B B \n",
      "\n",
      "C C C \n",
      "\n",
      "D D D D \n",
      "\n",
      "E E E E E \n",
      "\n",
      "F F F F F F \n",
      "\n",
      "G G G G G G G \n",
      "\n"
     ]
    }
   ],
   "source": [
    "rows = int(input(\"Enter number of rows: \"))\n",
    "\n",
    "ascii_value = 65\n",
    "\n",
    "for i in range(rows):\n",
    "    for j in range(i+1):\n",
    "        alphabet = chr(ascii_value)\n",
    "        print(alphabet, end=\" \")\n",
    "    \n",
    "    ascii_value += 1\n",
    "    print(\"\\n\")"
   ]
  },
  {
   "cell_type": "markdown",
   "id": "f76c80cf",
   "metadata": {},
   "source": [
    "# Inverted half pyramid using *"
   ]
  },
  {
   "cell_type": "code",
   "execution_count": 8,
   "id": "b838c432",
   "metadata": {},
   "outputs": [
    {
     "name": "stdout",
     "output_type": "stream",
     "text": [
      "Enter number of rows: 3\n",
      "*  *  *  \n",
      "\n",
      "*  *  \n",
      "\n",
      "*  \n",
      "\n"
     ]
    }
   ],
   "source": [
    "rows = int(input(\"Enter number of rows: \"))\n",
    "\n",
    "for i in range(rows, 0, -1):\n",
    "    for j in range(0, i):\n",
    "        print(\"* \", end=\" \")\n",
    "    \n",
    "    print(\"\\n\")"
   ]
  },
  {
   "cell_type": "markdown",
   "id": "327f9f3e",
   "metadata": {},
   "source": [
    "# Inverted half pyramid using numbers"
   ]
  },
  {
   "cell_type": "code",
   "execution_count": 9,
   "id": "941abe26",
   "metadata": {},
   "outputs": [
    {
     "name": "stdout",
     "output_type": "stream",
     "text": [
      "Enter number of rows: 8\n",
      "1 2 3 4 5 6 7 8 \n",
      "\n",
      "1 2 3 4 5 6 7 \n",
      "\n",
      "1 2 3 4 5 6 \n",
      "\n",
      "1 2 3 4 5 \n",
      "\n",
      "1 2 3 4 \n",
      "\n",
      "1 2 3 \n",
      "\n",
      "1 2 \n",
      "\n",
      "1 \n",
      "\n"
     ]
    }
   ],
   "source": [
    "rows = int(input(\"Enter number of rows: \"))\n",
    "\n",
    "for i in range(rows, 0, -1):\n",
    "    for j in range(1, i+1):\n",
    "        print(j, end=\" \")\n",
    "    \n",
    "    print(\"\\n\")"
   ]
  },
  {
   "cell_type": "markdown",
   "id": "620cd18a",
   "metadata": {},
   "source": [
    "# Program to print full pyramid using *"
   ]
  },
  {
   "cell_type": "code",
   "execution_count": 1,
   "id": "7b4a4389",
   "metadata": {},
   "outputs": [
    {
     "name": "stdout",
     "output_type": "stream",
     "text": [
      "Enter number of rows: 8\n",
      "              * \n",
      "            * * * \n",
      "          * * * * * \n",
      "        * * * * * * * \n",
      "      * * * * * * * * * \n",
      "    * * * * * * * * * * * \n",
      "  * * * * * * * * * * * * * \n",
      "* * * * * * * * * * * * * * * \n"
     ]
    }
   ],
   "source": [
    "rows = int(input(\"Enter number of rows: \"))\n",
    "\n",
    "k = 0\n",
    "\n",
    "for i in range(1, rows+1):\n",
    "    for space in range(1, (rows-i)+1):\n",
    "        print(end=\"  \")\n",
    "   \n",
    "    while k!=(2*i-1):\n",
    "        print(\"* \", end=\"\")\n",
    "        k += 1\n",
    "   \n",
    "    k = 0\n",
    "    print()"
   ]
  },
  {
   "cell_type": "code",
   "execution_count": null,
   "id": "1db4485c",
   "metadata": {},
   "outputs": [],
   "source": []
  }
 ],
 "metadata": {
  "kernelspec": {
   "display_name": "Python 3 (ipykernel)",
   "language": "python",
   "name": "python3"
  },
  "language_info": {
   "codemirror_mode": {
    "name": "ipython",
    "version": 3
   },
   "file_extension": ".py",
   "mimetype": "text/x-python",
   "name": "python",
   "nbconvert_exporter": "python",
   "pygments_lexer": "ipython3",
   "version": "3.9.12"
  }
 },
 "nbformat": 4,
 "nbformat_minor": 5
}
